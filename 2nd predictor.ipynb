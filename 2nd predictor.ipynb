{
 "cells": [
  {
   "cell_type": "code",
   "execution_count": 31,
   "id": "d31b72cf-c217-4fe8-b1cc-b23ed41715d4",
   "metadata": {},
   "outputs": [],
   "source": [
    "import pandas as pd \n",
    "import numpy as np "
   ]
  },
  {
   "cell_type": "code",
   "execution_count": 32,
   "id": "d288e24b-44d6-4edd-838a-ec3586329564",
   "metadata": {},
   "outputs": [
    {
     "data": {
      "text/html": [
       "<div>\n",
       "<style scoped>\n",
       "    .dataframe tbody tr th:only-of-type {\n",
       "        vertical-align: middle;\n",
       "    }\n",
       "\n",
       "    .dataframe tbody tr th {\n",
       "        vertical-align: top;\n",
       "    }\n",
       "\n",
       "    .dataframe thead th {\n",
       "        text-align: right;\n",
       "    }\n",
       "</style>\n",
       "<table border=\"1\" class=\"dataframe\">\n",
       "  <thead>\n",
       "    <tr style=\"text-align: right;\">\n",
       "      <th></th>\n",
       "      <th>id</th>\n",
       "      <th>name</th>\n",
       "      <th>date</th>\n",
       "      <th>tagline</th>\n",
       "      <th>description</th>\n",
       "      <th>minute</th>\n",
       "      <th>rating</th>\n",
       "    </tr>\n",
       "  </thead>\n",
       "  <tbody>\n",
       "    <tr>\n",
       "      <th>0</th>\n",
       "      <td>1000001</td>\n",
       "      <td>Barbie</td>\n",
       "      <td>2023.0</td>\n",
       "      <td>She's everything. He's just Ken.</td>\n",
       "      <td>Barbie and Ken are having the time of their li...</td>\n",
       "      <td>114.0</td>\n",
       "      <td>3.86</td>\n",
       "    </tr>\n",
       "    <tr>\n",
       "      <th>1</th>\n",
       "      <td>1000002</td>\n",
       "      <td>Parasite</td>\n",
       "      <td>2019.0</td>\n",
       "      <td>Act like you own the place.</td>\n",
       "      <td>All unemployed, Ki-taek's family takes peculia...</td>\n",
       "      <td>133.0</td>\n",
       "      <td>4.56</td>\n",
       "    </tr>\n",
       "  </tbody>\n",
       "</table>\n",
       "</div>"
      ],
      "text/plain": [
       "        id      name    date                           tagline  \\\n",
       "0  1000001    Barbie  2023.0  She's everything. He's just Ken.   \n",
       "1  1000002  Parasite  2019.0       Act like you own the place.   \n",
       "\n",
       "                                         description  minute  rating  \n",
       "0  Barbie and Ken are having the time of their li...   114.0    3.86  \n",
       "1  All unemployed, Ki-taek's family takes peculia...   133.0    4.56  "
      ]
     },
     "execution_count": 32,
     "metadata": {},
     "output_type": "execute_result"
    }
   ],
   "source": [
    "new_dt=pd.read_csv(\"movies.csv\")\n",
    "new_dt.head(2)"
   ]
  },
  {
   "cell_type": "code",
   "execution_count": 33,
   "id": "174154f0-6940-4e57-bd31-c6ed49f19a60",
   "metadata": {
    "scrolled": true
   },
   "outputs": [
    {
     "data": {
      "text/html": [
       "<div>\n",
       "<style scoped>\n",
       "    .dataframe tbody tr th:only-of-type {\n",
       "        vertical-align: middle;\n",
       "    }\n",
       "\n",
       "    .dataframe tbody tr th {\n",
       "        vertical-align: top;\n",
       "    }\n",
       "\n",
       "    .dataframe thead th {\n",
       "        text-align: right;\n",
       "    }\n",
       "</style>\n",
       "<table border=\"1\" class=\"dataframe\">\n",
       "  <thead>\n",
       "    <tr style=\"text-align: right;\">\n",
       "      <th></th>\n",
       "      <th>id</th>\n",
       "      <th>name</th>\n",
       "      <th>role</th>\n",
       "    </tr>\n",
       "  </thead>\n",
       "  <tbody>\n",
       "    <tr>\n",
       "      <th>0</th>\n",
       "      <td>1000001</td>\n",
       "      <td>Margot Robbie</td>\n",
       "      <td>Barbie</td>\n",
       "    </tr>\n",
       "    <tr>\n",
       "      <th>1</th>\n",
       "      <td>1000001</td>\n",
       "      <td>Ryan Gosling</td>\n",
       "      <td>Ken</td>\n",
       "    </tr>\n",
       "    <tr>\n",
       "      <th>2</th>\n",
       "      <td>1000001</td>\n",
       "      <td>America Ferrera</td>\n",
       "      <td>Gloria</td>\n",
       "    </tr>\n",
       "    <tr>\n",
       "      <th>3</th>\n",
       "      <td>1000001</td>\n",
       "      <td>Ariana Greenblatt</td>\n",
       "      <td>Sasha</td>\n",
       "    </tr>\n",
       "    <tr>\n",
       "      <th>4</th>\n",
       "      <td>1000001</td>\n",
       "      <td>Issa Rae</td>\n",
       "      <td>Barbie</td>\n",
       "    </tr>\n",
       "  </tbody>\n",
       "</table>\n",
       "</div>"
      ],
      "text/plain": [
       "        id               name    role\n",
       "0  1000001      Margot Robbie  Barbie\n",
       "1  1000001       Ryan Gosling     Ken\n",
       "2  1000001    America Ferrera  Gloria\n",
       "3  1000001  Ariana Greenblatt   Sasha\n",
       "4  1000001           Issa Rae  Barbie"
      ]
     },
     "execution_count": 33,
     "metadata": {},
     "output_type": "execute_result"
    }
   ],
   "source": [
    "actor=pd.read_csv(\"actors.csv\")\n",
    "actor.head()"
   ]
  },
  {
   "cell_type": "code",
   "execution_count": 34,
   "id": "af0e3f95-eea4-4672-9c38-2ad05a8b54f8",
   "metadata": {},
   "outputs": [],
   "source": [
    "result = (\n",
    "    actor.groupby(\"id\")[\"name\"]\n",
    "      .apply(lambda names: names.head(3).tolist())\n",
    "      .reset_index(name=\"top_3_names\")\n",
    ")"
   ]
  },
  {
   "cell_type": "code",
   "execution_count": 35,
   "id": "682e88e7-ceee-4fdf-b01c-37daa421eeff",
   "metadata": {},
   "outputs": [
    {
     "data": {
      "text/plain": [
       "list"
      ]
     },
     "execution_count": 35,
     "metadata": {},
     "output_type": "execute_result"
    }
   ],
   "source": [
    "type(result['top_3_names'][0])"
   ]
  },
  {
   "cell_type": "code",
   "execution_count": 37,
   "id": "b0b95aed-1f65-4cfe-8ba1-cacd0429c340",
   "metadata": {},
   "outputs": [
    {
     "data": {
      "text/html": [
       "<div>\n",
       "<style scoped>\n",
       "    .dataframe tbody tr th:only-of-type {\n",
       "        vertical-align: middle;\n",
       "    }\n",
       "\n",
       "    .dataframe tbody tr th {\n",
       "        vertical-align: top;\n",
       "    }\n",
       "\n",
       "    .dataframe thead th {\n",
       "        text-align: right;\n",
       "    }\n",
       "</style>\n",
       "<table border=\"1\" class=\"dataframe\">\n",
       "  <thead>\n",
       "    <tr style=\"text-align: right;\">\n",
       "      <th></th>\n",
       "      <th>id</th>\n",
       "      <th>top_3_names</th>\n",
       "    </tr>\n",
       "  </thead>\n",
       "  <tbody>\n",
       "    <tr>\n",
       "      <th>0</th>\n",
       "      <td>1000001</td>\n",
       "      <td>[Margot Robbie, Ryan Gosling, America Ferrera]</td>\n",
       "    </tr>\n",
       "    <tr>\n",
       "      <th>1</th>\n",
       "      <td>1000002</td>\n",
       "      <td>[Song Kang-ho, Lee Sun-kyun, Cho Yeo-jeong]</td>\n",
       "    </tr>\n",
       "  </tbody>\n",
       "</table>\n",
       "</div>"
      ],
      "text/plain": [
       "        id                                     top_3_names\n",
       "0  1000001  [Margot Robbie, Ryan Gosling, America Ferrera]\n",
       "1  1000002     [Song Kang-ho, Lee Sun-kyun, Cho Yeo-jeong]"
      ]
     },
     "execution_count": 37,
     "metadata": {},
     "output_type": "execute_result"
    }
   ],
   "source": [
    "result.head(2)"
   ]
  },
  {
   "cell_type": "code",
   "execution_count": 38,
   "id": "bb42fd9c-d74c-44f1-a460-e901705e7f95",
   "metadata": {},
   "outputs": [],
   "source": [
    "new_dt=new_dt.merge(result,on='id')"
   ]
  },
  {
   "cell_type": "code",
   "execution_count": 39,
   "id": "32c25acb-fca3-4b34-b29a-efd817dd2dbe",
   "metadata": {},
   "outputs": [
    {
     "data": {
      "text/html": [
       "<div>\n",
       "<style scoped>\n",
       "    .dataframe tbody tr th:only-of-type {\n",
       "        vertical-align: middle;\n",
       "    }\n",
       "\n",
       "    .dataframe tbody tr th {\n",
       "        vertical-align: top;\n",
       "    }\n",
       "\n",
       "    .dataframe thead th {\n",
       "        text-align: right;\n",
       "    }\n",
       "</style>\n",
       "<table border=\"1\" class=\"dataframe\">\n",
       "  <thead>\n",
       "    <tr style=\"text-align: right;\">\n",
       "      <th></th>\n",
       "      <th>id</th>\n",
       "      <th>name</th>\n",
       "      <th>date</th>\n",
       "      <th>tagline</th>\n",
       "      <th>description</th>\n",
       "      <th>minute</th>\n",
       "      <th>rating</th>\n",
       "      <th>top_3_names</th>\n",
       "    </tr>\n",
       "  </thead>\n",
       "  <tbody>\n",
       "    <tr>\n",
       "      <th>0</th>\n",
       "      <td>1000001</td>\n",
       "      <td>Barbie</td>\n",
       "      <td>2023.0</td>\n",
       "      <td>She's everything. He's just Ken.</td>\n",
       "      <td>Barbie and Ken are having the time of their li...</td>\n",
       "      <td>114.0</td>\n",
       "      <td>3.86</td>\n",
       "      <td>[Margot Robbie, Ryan Gosling, America Ferrera]</td>\n",
       "    </tr>\n",
       "    <tr>\n",
       "      <th>1</th>\n",
       "      <td>1000002</td>\n",
       "      <td>Parasite</td>\n",
       "      <td>2019.0</td>\n",
       "      <td>Act like you own the place.</td>\n",
       "      <td>All unemployed, Ki-taek's family takes peculia...</td>\n",
       "      <td>133.0</td>\n",
       "      <td>4.56</td>\n",
       "      <td>[Song Kang-ho, Lee Sun-kyun, Cho Yeo-jeong]</td>\n",
       "    </tr>\n",
       "    <tr>\n",
       "      <th>2</th>\n",
       "      <td>1000003</td>\n",
       "      <td>Everything Everywhere All at Once</td>\n",
       "      <td>2022.0</td>\n",
       "      <td>The universe is so much bigger than you realize.</td>\n",
       "      <td>An aging Chinese immigrant is swept up in an i...</td>\n",
       "      <td>140.0</td>\n",
       "      <td>4.30</td>\n",
       "      <td>[Michelle Yeoh, Ke Huy Quan, Stephanie Hsu]</td>\n",
       "    </tr>\n",
       "    <tr>\n",
       "      <th>3</th>\n",
       "      <td>1000004</td>\n",
       "      <td>Fight Club</td>\n",
       "      <td>1999.0</td>\n",
       "      <td>Mischief. Mayhem. Soap.</td>\n",
       "      <td>A ticking-time-bomb insomniac and a slippery s...</td>\n",
       "      <td>139.0</td>\n",
       "      <td>4.27</td>\n",
       "      <td>[Edward Norton, Brad Pitt, Helena Bonham Carter]</td>\n",
       "    </tr>\n",
       "    <tr>\n",
       "      <th>4</th>\n",
       "      <td>1000005</td>\n",
       "      <td>La La Land</td>\n",
       "      <td>2016.0</td>\n",
       "      <td>Here's to the fools who dream.</td>\n",
       "      <td>Mia, an aspiring actress, serves lattes to mov...</td>\n",
       "      <td>129.0</td>\n",
       "      <td>4.09</td>\n",
       "      <td>[Ryan Gosling, Emma Stone, John Legend]</td>\n",
       "    </tr>\n",
       "  </tbody>\n",
       "</table>\n",
       "</div>"
      ],
      "text/plain": [
       "        id                               name    date  \\\n",
       "0  1000001                             Barbie  2023.0   \n",
       "1  1000002                           Parasite  2019.0   \n",
       "2  1000003  Everything Everywhere All at Once  2022.0   \n",
       "3  1000004                         Fight Club  1999.0   \n",
       "4  1000005                         La La Land  2016.0   \n",
       "\n",
       "                                            tagline  \\\n",
       "0                  She's everything. He's just Ken.   \n",
       "1                       Act like you own the place.   \n",
       "2  The universe is so much bigger than you realize.   \n",
       "3                           Mischief. Mayhem. Soap.   \n",
       "4                    Here's to the fools who dream.   \n",
       "\n",
       "                                         description  minute  rating  \\\n",
       "0  Barbie and Ken are having the time of their li...   114.0    3.86   \n",
       "1  All unemployed, Ki-taek's family takes peculia...   133.0    4.56   \n",
       "2  An aging Chinese immigrant is swept up in an i...   140.0    4.30   \n",
       "3  A ticking-time-bomb insomniac and a slippery s...   139.0    4.27   \n",
       "4  Mia, an aspiring actress, serves lattes to mov...   129.0    4.09   \n",
       "\n",
       "                                        top_3_names  \n",
       "0    [Margot Robbie, Ryan Gosling, America Ferrera]  \n",
       "1       [Song Kang-ho, Lee Sun-kyun, Cho Yeo-jeong]  \n",
       "2       [Michelle Yeoh, Ke Huy Quan, Stephanie Hsu]  \n",
       "3  [Edward Norton, Brad Pitt, Helena Bonham Carter]  \n",
       "4           [Ryan Gosling, Emma Stone, John Legend]  "
      ]
     },
     "execution_count": 39,
     "metadata": {},
     "output_type": "execute_result"
    }
   ],
   "source": [
    "new_dt.head(5)"
   ]
  },
  {
   "cell_type": "code",
   "execution_count": 40,
   "id": "477056e2-cd79-4b31-999b-d56d0754437b",
   "metadata": {},
   "outputs": [
    {
     "data": {
      "text/html": [
       "<div>\n",
       "<style scoped>\n",
       "    .dataframe tbody tr th:only-of-type {\n",
       "        vertical-align: middle;\n",
       "    }\n",
       "\n",
       "    .dataframe tbody tr th {\n",
       "        vertical-align: top;\n",
       "    }\n",
       "\n",
       "    .dataframe thead th {\n",
       "        text-align: right;\n",
       "    }\n",
       "</style>\n",
       "<table border=\"1\" class=\"dataframe\">\n",
       "  <thead>\n",
       "    <tr style=\"text-align: right;\">\n",
       "      <th></th>\n",
       "      <th>id</th>\n",
       "      <th>name</th>\n",
       "      <th>date</th>\n",
       "      <th>tagline</th>\n",
       "      <th>description</th>\n",
       "      <th>minute</th>\n",
       "      <th>rating</th>\n",
       "      <th>cast</th>\n",
       "    </tr>\n",
       "  </thead>\n",
       "  <tbody>\n",
       "    <tr>\n",
       "      <th>0</th>\n",
       "      <td>1000001</td>\n",
       "      <td>Barbie</td>\n",
       "      <td>2023.0</td>\n",
       "      <td>She's everything. He's just Ken.</td>\n",
       "      <td>Barbie and Ken are having the time of their li...</td>\n",
       "      <td>114.0</td>\n",
       "      <td>3.86</td>\n",
       "      <td>[Margot Robbie, Ryan Gosling, America Ferrera]</td>\n",
       "    </tr>\n",
       "    <tr>\n",
       "      <th>1</th>\n",
       "      <td>1000002</td>\n",
       "      <td>Parasite</td>\n",
       "      <td>2019.0</td>\n",
       "      <td>Act like you own the place.</td>\n",
       "      <td>All unemployed, Ki-taek's family takes peculia...</td>\n",
       "      <td>133.0</td>\n",
       "      <td>4.56</td>\n",
       "      <td>[Song Kang-ho, Lee Sun-kyun, Cho Yeo-jeong]</td>\n",
       "    </tr>\n",
       "    <tr>\n",
       "      <th>2</th>\n",
       "      <td>1000003</td>\n",
       "      <td>Everything Everywhere All at Once</td>\n",
       "      <td>2022.0</td>\n",
       "      <td>The universe is so much bigger than you realize.</td>\n",
       "      <td>An aging Chinese immigrant is swept up in an i...</td>\n",
       "      <td>140.0</td>\n",
       "      <td>4.30</td>\n",
       "      <td>[Michelle Yeoh, Ke Huy Quan, Stephanie Hsu]</td>\n",
       "    </tr>\n",
       "  </tbody>\n",
       "</table>\n",
       "</div>"
      ],
      "text/plain": [
       "        id                               name    date  \\\n",
       "0  1000001                             Barbie  2023.0   \n",
       "1  1000002                           Parasite  2019.0   \n",
       "2  1000003  Everything Everywhere All at Once  2022.0   \n",
       "\n",
       "                                            tagline  \\\n",
       "0                  She's everything. He's just Ken.   \n",
       "1                       Act like you own the place.   \n",
       "2  The universe is so much bigger than you realize.   \n",
       "\n",
       "                                         description  minute  rating  \\\n",
       "0  Barbie and Ken are having the time of their li...   114.0    3.86   \n",
       "1  All unemployed, Ki-taek's family takes peculia...   133.0    4.56   \n",
       "2  An aging Chinese immigrant is swept up in an i...   140.0    4.30   \n",
       "\n",
       "                                             cast  \n",
       "0  [Margot Robbie, Ryan Gosling, America Ferrera]  \n",
       "1     [Song Kang-ho, Lee Sun-kyun, Cho Yeo-jeong]  \n",
       "2     [Michelle Yeoh, Ke Huy Quan, Stephanie Hsu]  "
      ]
     },
     "execution_count": 40,
     "metadata": {},
     "output_type": "execute_result"
    }
   ],
   "source": [
    "new_dt.rename(columns={'top_3_names':'cast'},inplace=True)\n",
    "new_dt.head(3)"
   ]
  },
  {
   "cell_type": "code",
   "execution_count": 41,
   "id": "98da7773-0c92-4b5a-8d38-0f4bf53b82be",
   "metadata": {},
   "outputs": [],
   "source": [
    "new_dt.drop(columns={'minute','tagline'},inplace=True)"
   ]
  },
  {
   "cell_type": "code",
   "execution_count": 42,
   "id": "8c09806e-8c54-4279-b798-0c8c851d786a",
   "metadata": {},
   "outputs": [
    {
     "data": {
      "text/html": [
       "<div>\n",
       "<style scoped>\n",
       "    .dataframe tbody tr th:only-of-type {\n",
       "        vertical-align: middle;\n",
       "    }\n",
       "\n",
       "    .dataframe tbody tr th {\n",
       "        vertical-align: top;\n",
       "    }\n",
       "\n",
       "    .dataframe thead th {\n",
       "        text-align: right;\n",
       "    }\n",
       "</style>\n",
       "<table border=\"1\" class=\"dataframe\">\n",
       "  <thead>\n",
       "    <tr style=\"text-align: right;\">\n",
       "      <th></th>\n",
       "      <th>id</th>\n",
       "      <th>name</th>\n",
       "      <th>date</th>\n",
       "      <th>description</th>\n",
       "      <th>rating</th>\n",
       "      <th>cast</th>\n",
       "    </tr>\n",
       "  </thead>\n",
       "  <tbody>\n",
       "    <tr>\n",
       "      <th>0</th>\n",
       "      <td>1000001</td>\n",
       "      <td>Barbie</td>\n",
       "      <td>2023.0</td>\n",
       "      <td>Barbie and Ken are having the time of their li...</td>\n",
       "      <td>3.86</td>\n",
       "      <td>[Margot Robbie, Ryan Gosling, America Ferrera]</td>\n",
       "    </tr>\n",
       "    <tr>\n",
       "      <th>1</th>\n",
       "      <td>1000002</td>\n",
       "      <td>Parasite</td>\n",
       "      <td>2019.0</td>\n",
       "      <td>All unemployed, Ki-taek's family takes peculia...</td>\n",
       "      <td>4.56</td>\n",
       "      <td>[Song Kang-ho, Lee Sun-kyun, Cho Yeo-jeong]</td>\n",
       "    </tr>\n",
       "    <tr>\n",
       "      <th>2</th>\n",
       "      <td>1000003</td>\n",
       "      <td>Everything Everywhere All at Once</td>\n",
       "      <td>2022.0</td>\n",
       "      <td>An aging Chinese immigrant is swept up in an i...</td>\n",
       "      <td>4.30</td>\n",
       "      <td>[Michelle Yeoh, Ke Huy Quan, Stephanie Hsu]</td>\n",
       "    </tr>\n",
       "  </tbody>\n",
       "</table>\n",
       "</div>"
      ],
      "text/plain": [
       "        id                               name    date  \\\n",
       "0  1000001                             Barbie  2023.0   \n",
       "1  1000002                           Parasite  2019.0   \n",
       "2  1000003  Everything Everywhere All at Once  2022.0   \n",
       "\n",
       "                                         description  rating  \\\n",
       "0  Barbie and Ken are having the time of their li...    3.86   \n",
       "1  All unemployed, Ki-taek's family takes peculia...    4.56   \n",
       "2  An aging Chinese immigrant is swept up in an i...    4.30   \n",
       "\n",
       "                                             cast  \n",
       "0  [Margot Robbie, Ryan Gosling, America Ferrera]  \n",
       "1     [Song Kang-ho, Lee Sun-kyun, Cho Yeo-jeong]  \n",
       "2     [Michelle Yeoh, Ke Huy Quan, Stephanie Hsu]  "
      ]
     },
     "execution_count": 42,
     "metadata": {},
     "output_type": "execute_result"
    }
   ],
   "source": [
    "new_dt.head(3)"
   ]
  },
  {
   "cell_type": "code",
   "execution_count": 43,
   "id": "026540f9-b1f3-46bf-950d-3d42f0b3bda9",
   "metadata": {},
   "outputs": [],
   "source": [
    "genres=pd.read_csv('genres.csv')"
   ]
  },
  {
   "cell_type": "code",
   "execution_count": 44,
   "id": "4591d5d9-5b3e-4323-a4d6-456ffea6b112",
   "metadata": {},
   "outputs": [],
   "source": [
    "result=(\n",
    "    genres.groupby(\"id\")[\"genre\"]\n",
    "    .apply(lambda m : m.head().tolist())\n",
    ")"
   ]
  },
  {
   "cell_type": "code",
   "execution_count": 45,
   "id": "2deea71f-a487-4376-8f99-167565bb7d57",
   "metadata": {},
   "outputs": [
    {
     "data": {
      "text/html": [
       "<div>\n",
       "<style scoped>\n",
       "    .dataframe tbody tr th:only-of-type {\n",
       "        vertical-align: middle;\n",
       "    }\n",
       "\n",
       "    .dataframe tbody tr th {\n",
       "        vertical-align: top;\n",
       "    }\n",
       "\n",
       "    .dataframe thead th {\n",
       "        text-align: right;\n",
       "    }\n",
       "</style>\n",
       "<table border=\"1\" class=\"dataframe\">\n",
       "  <thead>\n",
       "    <tr style=\"text-align: right;\">\n",
       "      <th></th>\n",
       "      <th>id</th>\n",
       "      <th>name</th>\n",
       "      <th>date</th>\n",
       "      <th>description</th>\n",
       "      <th>rating</th>\n",
       "      <th>cast</th>\n",
       "      <th>genre</th>\n",
       "    </tr>\n",
       "  </thead>\n",
       "  <tbody>\n",
       "    <tr>\n",
       "      <th>0</th>\n",
       "      <td>1000001</td>\n",
       "      <td>Barbie</td>\n",
       "      <td>2023.0</td>\n",
       "      <td>Barbie and Ken are having the time of their li...</td>\n",
       "      <td>3.86</td>\n",
       "      <td>[Margot Robbie, Ryan Gosling, America Ferrera]</td>\n",
       "      <td>[Comedy, Adventure]</td>\n",
       "    </tr>\n",
       "    <tr>\n",
       "      <th>1</th>\n",
       "      <td>1000002</td>\n",
       "      <td>Parasite</td>\n",
       "      <td>2019.0</td>\n",
       "      <td>All unemployed, Ki-taek's family takes peculia...</td>\n",
       "      <td>4.56</td>\n",
       "      <td>[Song Kang-ho, Lee Sun-kyun, Cho Yeo-jeong]</td>\n",
       "      <td>[Comedy, Thriller, Drama]</td>\n",
       "    </tr>\n",
       "  </tbody>\n",
       "</table>\n",
       "</div>"
      ],
      "text/plain": [
       "        id      name    date  \\\n",
       "0  1000001    Barbie  2023.0   \n",
       "1  1000002  Parasite  2019.0   \n",
       "\n",
       "                                         description  rating  \\\n",
       "0  Barbie and Ken are having the time of their li...    3.86   \n",
       "1  All unemployed, Ki-taek's family takes peculia...    4.56   \n",
       "\n",
       "                                             cast                      genre  \n",
       "0  [Margot Robbie, Ryan Gosling, America Ferrera]        [Comedy, Adventure]  \n",
       "1     [Song Kang-ho, Lee Sun-kyun, Cho Yeo-jeong]  [Comedy, Thriller, Drama]  "
      ]
     },
     "execution_count": 45,
     "metadata": {},
     "output_type": "execute_result"
    }
   ],
   "source": [
    "new_dt=new_dt.merge(result,on='id')\n",
    "new_dt.head(2)"
   ]
  },
  {
   "cell_type": "code",
   "execution_count": 46,
   "id": "4c52185f-6c22-4df3-9987-7b0fa8024172",
   "metadata": {},
   "outputs": [],
   "source": [
    "crew=pd.read_csv(\"crew.csv\")"
   ]
  },
  {
   "cell_type": "code",
   "execution_count": 47,
   "id": "7c7f9be3-3e54-450f-949a-238864670a3e",
   "metadata": {},
   "outputs": [
    {
     "data": {
      "text/html": [
       "<div>\n",
       "<style scoped>\n",
       "    .dataframe tbody tr th:only-of-type {\n",
       "        vertical-align: middle;\n",
       "    }\n",
       "\n",
       "    .dataframe tbody tr th {\n",
       "        vertical-align: top;\n",
       "    }\n",
       "\n",
       "    .dataframe thead th {\n",
       "        text-align: right;\n",
       "    }\n",
       "</style>\n",
       "<table border=\"1\" class=\"dataframe\">\n",
       "  <thead>\n",
       "    <tr style=\"text-align: right;\">\n",
       "      <th></th>\n",
       "      <th>id</th>\n",
       "      <th>role</th>\n",
       "      <th>name</th>\n",
       "    </tr>\n",
       "  </thead>\n",
       "  <tbody>\n",
       "    <tr>\n",
       "      <th>0</th>\n",
       "      <td>1000001</td>\n",
       "      <td>Director</td>\n",
       "      <td>Greta Gerwig</td>\n",
       "    </tr>\n",
       "    <tr>\n",
       "      <th>1</th>\n",
       "      <td>1000001</td>\n",
       "      <td>Producer</td>\n",
       "      <td>Tom Ackerley</td>\n",
       "    </tr>\n",
       "    <tr>\n",
       "      <th>2</th>\n",
       "      <td>1000001</td>\n",
       "      <td>Producer</td>\n",
       "      <td>Margot Robbie</td>\n",
       "    </tr>\n",
       "  </tbody>\n",
       "</table>\n",
       "</div>"
      ],
      "text/plain": [
       "        id      role           name\n",
       "0  1000001  Director   Greta Gerwig\n",
       "1  1000001  Producer   Tom Ackerley\n",
       "2  1000001  Producer  Margot Robbie"
      ]
     },
     "execution_count": 47,
     "metadata": {},
     "output_type": "execute_result"
    }
   ],
   "source": [
    "crew = crew[crew[\"role\"].isin([\"Producer\", \"Director\"])]\n",
    "crew.head(3)"
   ]
  },
  {
   "cell_type": "code",
   "execution_count": 48,
   "id": "2ee745c5-fde9-47ef-8565-7af7daf283c4",
   "metadata": {},
   "outputs": [],
   "source": [
    "result=(\n",
    "    crew.groupby(\"id\")[\"name\"]\n",
    "    .apply(lambda m : m.head().tolist())\n",
    ")"
   ]
  },
  {
   "cell_type": "code",
   "execution_count": 49,
   "id": "38feaeb7-5b1c-49fb-9339-330a63a2cdc8",
   "metadata": {},
   "outputs": [
    {
     "data": {
      "text/html": [
       "<div>\n",
       "<style scoped>\n",
       "    .dataframe tbody tr th:only-of-type {\n",
       "        vertical-align: middle;\n",
       "    }\n",
       "\n",
       "    .dataframe tbody tr th {\n",
       "        vertical-align: top;\n",
       "    }\n",
       "\n",
       "    .dataframe thead th {\n",
       "        text-align: right;\n",
       "    }\n",
       "</style>\n",
       "<table border=\"1\" class=\"dataframe\">\n",
       "  <thead>\n",
       "    <tr style=\"text-align: right;\">\n",
       "      <th></th>\n",
       "      <th>id</th>\n",
       "      <th>name_x</th>\n",
       "      <th>date</th>\n",
       "      <th>description</th>\n",
       "      <th>rating</th>\n",
       "      <th>cast</th>\n",
       "      <th>genre</th>\n",
       "      <th>name_y</th>\n",
       "    </tr>\n",
       "  </thead>\n",
       "  <tbody>\n",
       "    <tr>\n",
       "      <th>0</th>\n",
       "      <td>1000001</td>\n",
       "      <td>Barbie</td>\n",
       "      <td>2023.0</td>\n",
       "      <td>Barbie and Ken are having the time of their li...</td>\n",
       "      <td>3.86</td>\n",
       "      <td>[Margot Robbie, Ryan Gosling, America Ferrera]</td>\n",
       "      <td>[Comedy, Adventure]</td>\n",
       "      <td>[Greta Gerwig, Tom Ackerley, Margot Robbie, Ro...</td>\n",
       "    </tr>\n",
       "    <tr>\n",
       "      <th>1</th>\n",
       "      <td>1000002</td>\n",
       "      <td>Parasite</td>\n",
       "      <td>2019.0</td>\n",
       "      <td>All unemployed, Ki-taek's family takes peculia...</td>\n",
       "      <td>4.56</td>\n",
       "      <td>[Song Kang-ho, Lee Sun-kyun, Cho Yeo-jeong]</td>\n",
       "      <td>[Comedy, Thriller, Drama]</td>\n",
       "      <td>[Bong Joon-ho, Jang Young-hwan, Kwak Sin-ae, M...</td>\n",
       "    </tr>\n",
       "  </tbody>\n",
       "</table>\n",
       "</div>"
      ],
      "text/plain": [
       "        id    name_x    date  \\\n",
       "0  1000001    Barbie  2023.0   \n",
       "1  1000002  Parasite  2019.0   \n",
       "\n",
       "                                         description  rating  \\\n",
       "0  Barbie and Ken are having the time of their li...    3.86   \n",
       "1  All unemployed, Ki-taek's family takes peculia...    4.56   \n",
       "\n",
       "                                             cast                      genre  \\\n",
       "0  [Margot Robbie, Ryan Gosling, America Ferrera]        [Comedy, Adventure]   \n",
       "1     [Song Kang-ho, Lee Sun-kyun, Cho Yeo-jeong]  [Comedy, Thriller, Drama]   \n",
       "\n",
       "                                              name_y  \n",
       "0  [Greta Gerwig, Tom Ackerley, Margot Robbie, Ro...  \n",
       "1  [Bong Joon-ho, Jang Young-hwan, Kwak Sin-ae, M...  "
      ]
     },
     "execution_count": 49,
     "metadata": {},
     "output_type": "execute_result"
    }
   ],
   "source": [
    "new_dt=new_dt.merge(result,on='id')\n",
    "new_dt.head(2)"
   ]
  },
  {
   "cell_type": "code",
   "execution_count": 50,
   "id": "fdc11048-b32f-483a-a031-7681336a3a40",
   "metadata": {},
   "outputs": [
    {
     "data": {
      "text/html": [
       "<div>\n",
       "<style scoped>\n",
       "    .dataframe tbody tr th:only-of-type {\n",
       "        vertical-align: middle;\n",
       "    }\n",
       "\n",
       "    .dataframe tbody tr th {\n",
       "        vertical-align: top;\n",
       "    }\n",
       "\n",
       "    .dataframe thead th {\n",
       "        text-align: right;\n",
       "    }\n",
       "</style>\n",
       "<table border=\"1\" class=\"dataframe\">\n",
       "  <thead>\n",
       "    <tr style=\"text-align: right;\">\n",
       "      <th></th>\n",
       "      <th>id</th>\n",
       "      <th>Movie_name</th>\n",
       "      <th>date</th>\n",
       "      <th>description</th>\n",
       "      <th>rating</th>\n",
       "      <th>cast</th>\n",
       "      <th>genre</th>\n",
       "      <th>crew</th>\n",
       "    </tr>\n",
       "  </thead>\n",
       "  <tbody>\n",
       "    <tr>\n",
       "      <th>0</th>\n",
       "      <td>1000001</td>\n",
       "      <td>Barbie</td>\n",
       "      <td>2023.0</td>\n",
       "      <td>Barbie and Ken are having the time of their li...</td>\n",
       "      <td>3.86</td>\n",
       "      <td>[Margot Robbie, Ryan Gosling, America Ferrera]</td>\n",
       "      <td>[Comedy, Adventure]</td>\n",
       "      <td>[Greta Gerwig, Tom Ackerley, Margot Robbie, Ro...</td>\n",
       "    </tr>\n",
       "    <tr>\n",
       "      <th>1</th>\n",
       "      <td>1000002</td>\n",
       "      <td>Parasite</td>\n",
       "      <td>2019.0</td>\n",
       "      <td>All unemployed, Ki-taek's family takes peculia...</td>\n",
       "      <td>4.56</td>\n",
       "      <td>[Song Kang-ho, Lee Sun-kyun, Cho Yeo-jeong]</td>\n",
       "      <td>[Comedy, Thriller, Drama]</td>\n",
       "      <td>[Bong Joon-ho, Jang Young-hwan, Kwak Sin-ae, M...</td>\n",
       "    </tr>\n",
       "    <tr>\n",
       "      <th>2</th>\n",
       "      <td>1000003</td>\n",
       "      <td>Everything Everywhere All at Once</td>\n",
       "      <td>2022.0</td>\n",
       "      <td>An aging Chinese immigrant is swept up in an i...</td>\n",
       "      <td>4.30</td>\n",
       "      <td>[Michelle Yeoh, Ke Huy Quan, Stephanie Hsu]</td>\n",
       "      <td>[Science Fiction, Adventure, Comedy, Action]</td>\n",
       "      <td>[Daniel Scheinert, Daniel Kwan, Joe Russo, Ant...</td>\n",
       "    </tr>\n",
       "  </tbody>\n",
       "</table>\n",
       "</div>"
      ],
      "text/plain": [
       "        id                         Movie_name    date  \\\n",
       "0  1000001                             Barbie  2023.0   \n",
       "1  1000002                           Parasite  2019.0   \n",
       "2  1000003  Everything Everywhere All at Once  2022.0   \n",
       "\n",
       "                                         description  rating  \\\n",
       "0  Barbie and Ken are having the time of their li...    3.86   \n",
       "1  All unemployed, Ki-taek's family takes peculia...    4.56   \n",
       "2  An aging Chinese immigrant is swept up in an i...    4.30   \n",
       "\n",
       "                                             cast  \\\n",
       "0  [Margot Robbie, Ryan Gosling, America Ferrera]   \n",
       "1     [Song Kang-ho, Lee Sun-kyun, Cho Yeo-jeong]   \n",
       "2     [Michelle Yeoh, Ke Huy Quan, Stephanie Hsu]   \n",
       "\n",
       "                                          genre  \\\n",
       "0                           [Comedy, Adventure]   \n",
       "1                     [Comedy, Thriller, Drama]   \n",
       "2  [Science Fiction, Adventure, Comedy, Action]   \n",
       "\n",
       "                                                crew  \n",
       "0  [Greta Gerwig, Tom Ackerley, Margot Robbie, Ro...  \n",
       "1  [Bong Joon-ho, Jang Young-hwan, Kwak Sin-ae, M...  \n",
       "2  [Daniel Scheinert, Daniel Kwan, Joe Russo, Ant...  "
      ]
     },
     "execution_count": 50,
     "metadata": {},
     "output_type": "execute_result"
    }
   ],
   "source": [
    "new_dt.rename(columns={'name_x':'Movie_name','name_y':'crew'},inplace=True)\n",
    "new_dt.head(3)"
   ]
  },
  {
   "cell_type": "code",
   "execution_count": 51,
   "id": "624152e2-1ccd-4a70-b4f1-fcc2c6b9170a",
   "metadata": {},
   "outputs": [],
   "source": [
    "studio=pd.read_csv(\"studios.csv\")"
   ]
  },
  {
   "cell_type": "code",
   "execution_count": 52,
   "id": "92a90256-69c1-49f7-a5dc-9427bee36c75",
   "metadata": {},
   "outputs": [],
   "source": [
    "result=(\n",
    "    studio.groupby(\"id\")[\"studio\"]\n",
    "    .apply(lambda m : m.head().tolist())\n",
    ")"
   ]
  },
  {
   "cell_type": "code",
   "execution_count": 53,
   "id": "dcaf1315-7ce1-4224-99ee-d2fd6fe30115",
   "metadata": {},
   "outputs": [
    {
     "data": {
      "text/html": [
       "<div>\n",
       "<style scoped>\n",
       "    .dataframe tbody tr th:only-of-type {\n",
       "        vertical-align: middle;\n",
       "    }\n",
       "\n",
       "    .dataframe tbody tr th {\n",
       "        vertical-align: top;\n",
       "    }\n",
       "\n",
       "    .dataframe thead th {\n",
       "        text-align: right;\n",
       "    }\n",
       "</style>\n",
       "<table border=\"1\" class=\"dataframe\">\n",
       "  <thead>\n",
       "    <tr style=\"text-align: right;\">\n",
       "      <th></th>\n",
       "      <th>id</th>\n",
       "      <th>Movie_name</th>\n",
       "      <th>date</th>\n",
       "      <th>description</th>\n",
       "      <th>rating</th>\n",
       "      <th>cast</th>\n",
       "      <th>genre</th>\n",
       "      <th>crew</th>\n",
       "      <th>studio</th>\n",
       "    </tr>\n",
       "  </thead>\n",
       "  <tbody>\n",
       "    <tr>\n",
       "      <th>0</th>\n",
       "      <td>1000001</td>\n",
       "      <td>Barbie</td>\n",
       "      <td>2023.0</td>\n",
       "      <td>Barbie and Ken are having the time of their li...</td>\n",
       "      <td>3.86</td>\n",
       "      <td>[Margot Robbie, Ryan Gosling, America Ferrera]</td>\n",
       "      <td>[Comedy, Adventure]</td>\n",
       "      <td>[Greta Gerwig, Tom Ackerley, Margot Robbie, Ro...</td>\n",
       "      <td>[LuckyChap Entertainment, Heyday Films, NB/GG ...</td>\n",
       "    </tr>\n",
       "    <tr>\n",
       "      <th>1</th>\n",
       "      <td>1000002</td>\n",
       "      <td>Parasite</td>\n",
       "      <td>2019.0</td>\n",
       "      <td>All unemployed, Ki-taek's family takes peculia...</td>\n",
       "      <td>4.56</td>\n",
       "      <td>[Song Kang-ho, Lee Sun-kyun, Cho Yeo-jeong]</td>\n",
       "      <td>[Comedy, Thriller, Drama]</td>\n",
       "      <td>[Bong Joon-ho, Jang Young-hwan, Kwak Sin-ae, M...</td>\n",
       "      <td>[Barunson E&amp;A]</td>\n",
       "    </tr>\n",
       "  </tbody>\n",
       "</table>\n",
       "</div>"
      ],
      "text/plain": [
       "        id Movie_name    date  \\\n",
       "0  1000001     Barbie  2023.0   \n",
       "1  1000002   Parasite  2019.0   \n",
       "\n",
       "                                         description  rating  \\\n",
       "0  Barbie and Ken are having the time of their li...    3.86   \n",
       "1  All unemployed, Ki-taek's family takes peculia...    4.56   \n",
       "\n",
       "                                             cast                      genre  \\\n",
       "0  [Margot Robbie, Ryan Gosling, America Ferrera]        [Comedy, Adventure]   \n",
       "1     [Song Kang-ho, Lee Sun-kyun, Cho Yeo-jeong]  [Comedy, Thriller, Drama]   \n",
       "\n",
       "                                                crew  \\\n",
       "0  [Greta Gerwig, Tom Ackerley, Margot Robbie, Ro...   \n",
       "1  [Bong Joon-ho, Jang Young-hwan, Kwak Sin-ae, M...   \n",
       "\n",
       "                                              studio  \n",
       "0  [LuckyChap Entertainment, Heyday Films, NB/GG ...  \n",
       "1                                     [Barunson E&A]  "
      ]
     },
     "execution_count": 53,
     "metadata": {},
     "output_type": "execute_result"
    }
   ],
   "source": [
    "new_dt=new_dt.merge(result,on='id')\n",
    "new_dt.head(2)"
   ]
  },
  {
   "cell_type": "code",
   "execution_count": 54,
   "id": "e9f0bde5-d020-4172-9f93-b30cd7e6f2d8",
   "metadata": {},
   "outputs": [],
   "source": [
    "themes=pd.read_csv(\"themes.csv\")"
   ]
  },
  {
   "cell_type": "code",
   "execution_count": 55,
   "id": "a86eab67-79dc-4d26-9a4a-6778631fe117",
   "metadata": {},
   "outputs": [],
   "source": [
    "result=(\n",
    "    themes.groupby(\"id\")[\"theme\"]\n",
    "    .apply(lambda m : m.head().tolist())\n",
    ")"
   ]
  },
  {
   "cell_type": "code",
   "execution_count": 56,
   "id": "5f045e55-93dc-4f67-b527-326935f7ff91",
   "metadata": {},
   "outputs": [
    {
     "data": {
      "text/html": [
       "<div>\n",
       "<style scoped>\n",
       "    .dataframe tbody tr th:only-of-type {\n",
       "        vertical-align: middle;\n",
       "    }\n",
       "\n",
       "    .dataframe tbody tr th {\n",
       "        vertical-align: top;\n",
       "    }\n",
       "\n",
       "    .dataframe thead th {\n",
       "        text-align: right;\n",
       "    }\n",
       "</style>\n",
       "<table border=\"1\" class=\"dataframe\">\n",
       "  <thead>\n",
       "    <tr style=\"text-align: right;\">\n",
       "      <th></th>\n",
       "      <th>id</th>\n",
       "      <th>Movie_name</th>\n",
       "      <th>date</th>\n",
       "      <th>description</th>\n",
       "      <th>rating</th>\n",
       "      <th>cast</th>\n",
       "      <th>genre</th>\n",
       "      <th>crew</th>\n",
       "      <th>studio</th>\n",
       "      <th>theme</th>\n",
       "    </tr>\n",
       "  </thead>\n",
       "  <tbody>\n",
       "    <tr>\n",
       "      <th>0</th>\n",
       "      <td>1000001</td>\n",
       "      <td>Barbie</td>\n",
       "      <td>2023.0</td>\n",
       "      <td>Barbie and Ken are having the time of their li...</td>\n",
       "      <td>3.86</td>\n",
       "      <td>[Margot Robbie, Ryan Gosling, America Ferrera]</td>\n",
       "      <td>[Comedy, Adventure]</td>\n",
       "      <td>[Greta Gerwig, Tom Ackerley, Margot Robbie, Ro...</td>\n",
       "      <td>[LuckyChap Entertainment, Heyday Films, NB/GG ...</td>\n",
       "      <td>[Humanity and the world around us, Crude humor...</td>\n",
       "    </tr>\n",
       "    <tr>\n",
       "      <th>1</th>\n",
       "      <td>1000002</td>\n",
       "      <td>Parasite</td>\n",
       "      <td>2019.0</td>\n",
       "      <td>All unemployed, Ki-taek's family takes peculia...</td>\n",
       "      <td>4.56</td>\n",
       "      <td>[Song Kang-ho, Lee Sun-kyun, Cho Yeo-jeong]</td>\n",
       "      <td>[Comedy, Thriller, Drama]</td>\n",
       "      <td>[Bong Joon-ho, Jang Young-hwan, Kwak Sin-ae, M...</td>\n",
       "      <td>[Barunson E&amp;A]</td>\n",
       "      <td>[Humanity and the world around us, Intense vio...</td>\n",
       "    </tr>\n",
       "  </tbody>\n",
       "</table>\n",
       "</div>"
      ],
      "text/plain": [
       "        id Movie_name    date  \\\n",
       "0  1000001     Barbie  2023.0   \n",
       "1  1000002   Parasite  2019.0   \n",
       "\n",
       "                                         description  rating  \\\n",
       "0  Barbie and Ken are having the time of their li...    3.86   \n",
       "1  All unemployed, Ki-taek's family takes peculia...    4.56   \n",
       "\n",
       "                                             cast                      genre  \\\n",
       "0  [Margot Robbie, Ryan Gosling, America Ferrera]        [Comedy, Adventure]   \n",
       "1     [Song Kang-ho, Lee Sun-kyun, Cho Yeo-jeong]  [Comedy, Thriller, Drama]   \n",
       "\n",
       "                                                crew  \\\n",
       "0  [Greta Gerwig, Tom Ackerley, Margot Robbie, Ro...   \n",
       "1  [Bong Joon-ho, Jang Young-hwan, Kwak Sin-ae, M...   \n",
       "\n",
       "                                              studio  \\\n",
       "0  [LuckyChap Entertainment, Heyday Films, NB/GG ...   \n",
       "1                                     [Barunson E&A]   \n",
       "\n",
       "                                               theme  \n",
       "0  [Humanity and the world around us, Crude humor...  \n",
       "1  [Humanity and the world around us, Intense vio...  "
      ]
     },
     "execution_count": 56,
     "metadata": {},
     "output_type": "execute_result"
    }
   ],
   "source": [
    "new_dt=new_dt.merge(result,on='id')\n",
    "new_dt.head(2)"
   ]
  },
  {
   "cell_type": "code",
   "execution_count": 57,
   "id": "20c461e0-2770-4ac2-a81b-69f8e6bf5125",
   "metadata": {},
   "outputs": [],
   "source": [
    "new_dt.dropna(inplace=True)"
   ]
  },
  {
   "cell_type": "code",
   "execution_count": 58,
   "id": "64be3030-df70-4514-9f6d-9a5d7d9f92fc",
   "metadata": {},
   "outputs": [
    {
     "data": {
      "text/html": [
       "<div>\n",
       "<style scoped>\n",
       "    .dataframe tbody tr th:only-of-type {\n",
       "        vertical-align: middle;\n",
       "    }\n",
       "\n",
       "    .dataframe tbody tr th {\n",
       "        vertical-align: top;\n",
       "    }\n",
       "\n",
       "    .dataframe thead th {\n",
       "        text-align: right;\n",
       "    }\n",
       "</style>\n",
       "<table border=\"1\" class=\"dataframe\">\n",
       "  <thead>\n",
       "    <tr style=\"text-align: right;\">\n",
       "      <th></th>\n",
       "      <th>id</th>\n",
       "      <th>Movie_name</th>\n",
       "      <th>date</th>\n",
       "      <th>description</th>\n",
       "      <th>rating</th>\n",
       "      <th>cast</th>\n",
       "      <th>genre</th>\n",
       "      <th>crew</th>\n",
       "      <th>studio</th>\n",
       "      <th>theme</th>\n",
       "    </tr>\n",
       "  </thead>\n",
       "  <tbody>\n",
       "    <tr>\n",
       "      <th>0</th>\n",
       "      <td>1000001</td>\n",
       "      <td>Barbie</td>\n",
       "      <td>2023.0</td>\n",
       "      <td>[Barbie, and, Ken, are, having, the, time, of,...</td>\n",
       "      <td>3.86</td>\n",
       "      <td>[Margot Robbie, Ryan Gosling, America Ferrera]</td>\n",
       "      <td>[Comedy, Adventure]</td>\n",
       "      <td>[Greta Gerwig, Tom Ackerley, Margot Robbie, Ro...</td>\n",
       "      <td>[LuckyChap Entertainment, Heyday Films, NB/GG ...</td>\n",
       "      <td>[Humanity and the world around us, Crude humor...</td>\n",
       "    </tr>\n",
       "    <tr>\n",
       "      <th>1</th>\n",
       "      <td>1000002</td>\n",
       "      <td>Parasite</td>\n",
       "      <td>2019.0</td>\n",
       "      <td>[All, unemployed,, Ki-taek's, family, takes, p...</td>\n",
       "      <td>4.56</td>\n",
       "      <td>[Song Kang-ho, Lee Sun-kyun, Cho Yeo-jeong]</td>\n",
       "      <td>[Comedy, Thriller, Drama]</td>\n",
       "      <td>[Bong Joon-ho, Jang Young-hwan, Kwak Sin-ae, M...</td>\n",
       "      <td>[Barunson E&amp;A]</td>\n",
       "      <td>[Humanity and the world around us, Intense vio...</td>\n",
       "    </tr>\n",
       "  </tbody>\n",
       "</table>\n",
       "</div>"
      ],
      "text/plain": [
       "        id Movie_name    date  \\\n",
       "0  1000001     Barbie  2023.0   \n",
       "1  1000002   Parasite  2019.0   \n",
       "\n",
       "                                         description  rating  \\\n",
       "0  [Barbie, and, Ken, are, having, the, time, of,...    3.86   \n",
       "1  [All, unemployed,, Ki-taek's, family, takes, p...    4.56   \n",
       "\n",
       "                                             cast                      genre  \\\n",
       "0  [Margot Robbie, Ryan Gosling, America Ferrera]        [Comedy, Adventure]   \n",
       "1     [Song Kang-ho, Lee Sun-kyun, Cho Yeo-jeong]  [Comedy, Thriller, Drama]   \n",
       "\n",
       "                                                crew  \\\n",
       "0  [Greta Gerwig, Tom Ackerley, Margot Robbie, Ro...   \n",
       "1  [Bong Joon-ho, Jang Young-hwan, Kwak Sin-ae, M...   \n",
       "\n",
       "                                              studio  \\\n",
       "0  [LuckyChap Entertainment, Heyday Films, NB/GG ...   \n",
       "1                                     [Barunson E&A]   \n",
       "\n",
       "                                               theme  \n",
       "0  [Humanity and the world around us, Crude humor...  \n",
       "1  [Humanity and the world around us, Intense vio...  "
      ]
     },
     "execution_count": 58,
     "metadata": {},
     "output_type": "execute_result"
    }
   ],
   "source": [
    "new_dt['description']=new_dt['description'].apply(lambda x:x.split())\n",
    "new_dt.head(2)"
   ]
  },
  {
   "cell_type": "code",
   "execution_count": 59,
   "id": "cc4a18e7-a78c-4f41-b02c-6a38005e4382",
   "metadata": {},
   "outputs": [
    {
     "data": {
      "text/plain": [
       "id             0\n",
       "Movie_name     0\n",
       "date           0\n",
       "description    0\n",
       "rating         0\n",
       "cast           0\n",
       "genre          0\n",
       "crew           0\n",
       "studio         0\n",
       "theme          0\n",
       "dtype: int64"
      ]
     },
     "execution_count": 59,
     "metadata": {},
     "output_type": "execute_result"
    }
   ],
   "source": [
    "new_dt.isnull().sum()"
   ]
  },
  {
   "cell_type": "code",
   "execution_count": 60,
   "id": "e92fe978-2591-4e4c-b786-f680b9211ada",
   "metadata": {},
   "outputs": [],
   "source": [
    "new_dt['cast']=new_dt['cast'].apply(lambda x:[i.replace(\" \",\"\") for i in x])\n",
    "new_dt['crew']=new_dt['crew'].apply(lambda x:[i.replace(\" \",\"\") for i in x])\n",
    "new_dt['studio']=new_dt['studio'].apply(lambda x:[i.replace(\" \",\"\") for i in x])\n",
    "new_dt['description']=new_dt['description'].apply(lambda x:[i.replace(\" \",\"\") for i in x])\n",
    "new_dt['theme']=new_dt['theme'].apply(lambda x:[i.replace(\" \",\"\") for i in x])\n",
    "new_dt['genre']=new_dt['genre'].apply(lambda x:[i.replace(\" \",\"\") for i in x])"
   ]
  },
  {
   "cell_type": "code",
   "execution_count": 61,
   "id": "73cd3e3a-dd8c-478a-8432-84091f5940f7",
   "metadata": {},
   "outputs": [
    {
     "data": {
      "text/html": [
       "<div>\n",
       "<style scoped>\n",
       "    .dataframe tbody tr th:only-of-type {\n",
       "        vertical-align: middle;\n",
       "    }\n",
       "\n",
       "    .dataframe tbody tr th {\n",
       "        vertical-align: top;\n",
       "    }\n",
       "\n",
       "    .dataframe thead th {\n",
       "        text-align: right;\n",
       "    }\n",
       "</style>\n",
       "<table border=\"1\" class=\"dataframe\">\n",
       "  <thead>\n",
       "    <tr style=\"text-align: right;\">\n",
       "      <th></th>\n",
       "      <th>id</th>\n",
       "      <th>Movie_name</th>\n",
       "      <th>date</th>\n",
       "      <th>description</th>\n",
       "      <th>rating</th>\n",
       "      <th>cast</th>\n",
       "      <th>genre</th>\n",
       "      <th>crew</th>\n",
       "      <th>studio</th>\n",
       "      <th>theme</th>\n",
       "      <th>tags</th>\n",
       "    </tr>\n",
       "  </thead>\n",
       "  <tbody>\n",
       "    <tr>\n",
       "      <th>0</th>\n",
       "      <td>1000001</td>\n",
       "      <td>Barbie</td>\n",
       "      <td>2023.0</td>\n",
       "      <td>[Barbie, and, Ken, are, having, the, time, of,...</td>\n",
       "      <td>3.86</td>\n",
       "      <td>[MargotRobbie, RyanGosling, AmericaFerrera]</td>\n",
       "      <td>[Comedy, Adventure]</td>\n",
       "      <td>[GretaGerwig, TomAckerley, MargotRobbie, Robbi...</td>\n",
       "      <td>[LuckyChapEntertainment, HeydayFilms, NB/GGPic...</td>\n",
       "      <td>[Humanityandtheworldaroundus, Crudehumorandsat...</td>\n",
       "      <td>[MargotRobbie, RyanGosling, AmericaFerrera, Gr...</td>\n",
       "    </tr>\n",
       "    <tr>\n",
       "      <th>1</th>\n",
       "      <td>1000002</td>\n",
       "      <td>Parasite</td>\n",
       "      <td>2019.0</td>\n",
       "      <td>[All, unemployed,, Ki-taek's, family, takes, p...</td>\n",
       "      <td>4.56</td>\n",
       "      <td>[SongKang-ho, LeeSun-kyun, ChoYeo-jeong]</td>\n",
       "      <td>[Comedy, Thriller, Drama]</td>\n",
       "      <td>[BongJoon-ho, JangYoung-hwan, KwakSin-ae, Moon...</td>\n",
       "      <td>[BarunsonE&amp;A]</td>\n",
       "      <td>[Humanityandtheworldaroundus, Intenseviolencea...</td>\n",
       "      <td>[SongKang-ho, LeeSun-kyun, ChoYeo-jeong, BongJ...</td>\n",
       "    </tr>\n",
       "  </tbody>\n",
       "</table>\n",
       "</div>"
      ],
      "text/plain": [
       "        id Movie_name    date  \\\n",
       "0  1000001     Barbie  2023.0   \n",
       "1  1000002   Parasite  2019.0   \n",
       "\n",
       "                                         description  rating  \\\n",
       "0  [Barbie, and, Ken, are, having, the, time, of,...    3.86   \n",
       "1  [All, unemployed,, Ki-taek's, family, takes, p...    4.56   \n",
       "\n",
       "                                          cast                      genre  \\\n",
       "0  [MargotRobbie, RyanGosling, AmericaFerrera]        [Comedy, Adventure]   \n",
       "1     [SongKang-ho, LeeSun-kyun, ChoYeo-jeong]  [Comedy, Thriller, Drama]   \n",
       "\n",
       "                                                crew  \\\n",
       "0  [GretaGerwig, TomAckerley, MargotRobbie, Robbi...   \n",
       "1  [BongJoon-ho, JangYoung-hwan, KwakSin-ae, Moon...   \n",
       "\n",
       "                                              studio  \\\n",
       "0  [LuckyChapEntertainment, HeydayFilms, NB/GGPic...   \n",
       "1                                      [BarunsonE&A]   \n",
       "\n",
       "                                               theme  \\\n",
       "0  [Humanityandtheworldaroundus, Crudehumorandsat...   \n",
       "1  [Humanityandtheworldaroundus, Intenseviolencea...   \n",
       "\n",
       "                                                tags  \n",
       "0  [MargotRobbie, RyanGosling, AmericaFerrera, Gr...  \n",
       "1  [SongKang-ho, LeeSun-kyun, ChoYeo-jeong, BongJ...  "
      ]
     },
     "execution_count": 61,
     "metadata": {},
     "output_type": "execute_result"
    }
   ],
   "source": [
    "new_dt['tags']=new_dt['cast']+new_dt['crew']+new_dt['studio']+new_dt['description']+new_dt['theme']+new_dt['genre']\n",
    "new_dt.head(2)"
   ]
  },
  {
   "cell_type": "code",
   "execution_count": 62,
   "id": "c0d2428b-dc18-4c5b-bfaa-c78d36a2505e",
   "metadata": {},
   "outputs": [
    {
     "data": {
      "text/html": [
       "<div>\n",
       "<style scoped>\n",
       "    .dataframe tbody tr th:only-of-type {\n",
       "        vertical-align: middle;\n",
       "    }\n",
       "\n",
       "    .dataframe tbody tr th {\n",
       "        vertical-align: top;\n",
       "    }\n",
       "\n",
       "    .dataframe thead th {\n",
       "        text-align: right;\n",
       "    }\n",
       "</style>\n",
       "<table border=\"1\" class=\"dataframe\">\n",
       "  <thead>\n",
       "    <tr style=\"text-align: right;\">\n",
       "      <th></th>\n",
       "      <th>id</th>\n",
       "      <th>Movie_name</th>\n",
       "      <th>date</th>\n",
       "      <th>rating</th>\n",
       "      <th>tags</th>\n",
       "    </tr>\n",
       "  </thead>\n",
       "  <tbody>\n",
       "    <tr>\n",
       "      <th>0</th>\n",
       "      <td>1000001</td>\n",
       "      <td>Barbie</td>\n",
       "      <td>2023.0</td>\n",
       "      <td>3.86</td>\n",
       "      <td>[MargotRobbie, RyanGosling, AmericaFerrera, Gr...</td>\n",
       "    </tr>\n",
       "    <tr>\n",
       "      <th>1</th>\n",
       "      <td>1000002</td>\n",
       "      <td>Parasite</td>\n",
       "      <td>2019.0</td>\n",
       "      <td>4.56</td>\n",
       "      <td>[SongKang-ho, LeeSun-kyun, ChoYeo-jeong, BongJ...</td>\n",
       "    </tr>\n",
       "  </tbody>\n",
       "</table>\n",
       "</div>"
      ],
      "text/plain": [
       "        id Movie_name    date  rating  \\\n",
       "0  1000001     Barbie  2023.0    3.86   \n",
       "1  1000002   Parasite  2019.0    4.56   \n",
       "\n",
       "                                                tags  \n",
       "0  [MargotRobbie, RyanGosling, AmericaFerrera, Gr...  \n",
       "1  [SongKang-ho, LeeSun-kyun, ChoYeo-jeong, BongJ...  "
      ]
     },
     "execution_count": 62,
     "metadata": {},
     "output_type": "execute_result"
    }
   ],
   "source": [
    "new_df=new_dt[['id','Movie_name','date','rating','tags']]\n",
    "new_df.head(2)"
   ]
  },
  {
   "cell_type": "code",
   "execution_count": 63,
   "id": "4029512c-ff86-434a-bf15-83719069a58d",
   "metadata": {},
   "outputs": [
    {
     "name": "stderr",
     "output_type": "stream",
     "text": [
      "C:\\Users\\Asus\\AppData\\Local\\Temp\\ipykernel_24096\\487388550.py:1: SettingWithCopyWarning: \n",
      "A value is trying to be set on a copy of a slice from a DataFrame.\n",
      "Try using .loc[row_indexer,col_indexer] = value instead\n",
      "\n",
      "See the caveats in the documentation: https://pandas.pydata.org/pandas-docs/stable/user_guide/indexing.html#returning-a-view-versus-a-copy\n",
      "  new_df['tags']=new_df['tags'].apply(lambda x:\" \".join(x))\n"
     ]
    },
    {
     "data": {
      "text/html": [
       "<div>\n",
       "<style scoped>\n",
       "    .dataframe tbody tr th:only-of-type {\n",
       "        vertical-align: middle;\n",
       "    }\n",
       "\n",
       "    .dataframe tbody tr th {\n",
       "        vertical-align: top;\n",
       "    }\n",
       "\n",
       "    .dataframe thead th {\n",
       "        text-align: right;\n",
       "    }\n",
       "</style>\n",
       "<table border=\"1\" class=\"dataframe\">\n",
       "  <thead>\n",
       "    <tr style=\"text-align: right;\">\n",
       "      <th></th>\n",
       "      <th>id</th>\n",
       "      <th>Movie_name</th>\n",
       "      <th>date</th>\n",
       "      <th>rating</th>\n",
       "      <th>tags</th>\n",
       "    </tr>\n",
       "  </thead>\n",
       "  <tbody>\n",
       "    <tr>\n",
       "      <th>0</th>\n",
       "      <td>1000001</td>\n",
       "      <td>Barbie</td>\n",
       "      <td>2023.0</td>\n",
       "      <td>3.86</td>\n",
       "      <td>MargotRobbie RyanGosling AmericaFerrera GretaG...</td>\n",
       "    </tr>\n",
       "    <tr>\n",
       "      <th>1</th>\n",
       "      <td>1000002</td>\n",
       "      <td>Parasite</td>\n",
       "      <td>2019.0</td>\n",
       "      <td>4.56</td>\n",
       "      <td>SongKang-ho LeeSun-kyun ChoYeo-jeong BongJoon-...</td>\n",
       "    </tr>\n",
       "  </tbody>\n",
       "</table>\n",
       "</div>"
      ],
      "text/plain": [
       "        id Movie_name    date  rating  \\\n",
       "0  1000001     Barbie  2023.0    3.86   \n",
       "1  1000002   Parasite  2019.0    4.56   \n",
       "\n",
       "                                                tags  \n",
       "0  MargotRobbie RyanGosling AmericaFerrera GretaG...  \n",
       "1  SongKang-ho LeeSun-kyun ChoYeo-jeong BongJoon-...  "
      ]
     },
     "execution_count": 63,
     "metadata": {},
     "output_type": "execute_result"
    }
   ],
   "source": [
    "new_df['tags']=new_df['tags'].apply(lambda x:\" \".join(x))\n",
    "new_df.head(2)"
   ]
  },
  {
   "cell_type": "code",
   "execution_count": 64,
   "id": "6c528677-47f7-4dd3-935c-8369837858c7",
   "metadata": {},
   "outputs": [
    {
     "name": "stderr",
     "output_type": "stream",
     "text": [
      "C:\\Users\\Asus\\AppData\\Local\\Temp\\ipykernel_24096\\4224080999.py:1: SettingWithCopyWarning: \n",
      "A value is trying to be set on a copy of a slice from a DataFrame.\n",
      "Try using .loc[row_indexer,col_indexer] = value instead\n",
      "\n",
      "See the caveats in the documentation: https://pandas.pydata.org/pandas-docs/stable/user_guide/indexing.html#returning-a-view-versus-a-copy\n",
      "  new_df['tags']=new_df['tags'].apply(lambda x:x.lower())\n"
     ]
    }
   ],
   "source": [
    "new_df['tags']=new_df['tags'].apply(lambda x:x.lower())"
   ]
  },
  {
   "cell_type": "code",
   "execution_count": 65,
   "id": "df5c49a7-2ad0-4d94-9b3f-82440f68a125",
   "metadata": {},
   "outputs": [
    {
     "data": {
      "text/html": [
       "<div>\n",
       "<style scoped>\n",
       "    .dataframe tbody tr th:only-of-type {\n",
       "        vertical-align: middle;\n",
       "    }\n",
       "\n",
       "    .dataframe tbody tr th {\n",
       "        vertical-align: top;\n",
       "    }\n",
       "\n",
       "    .dataframe thead th {\n",
       "        text-align: right;\n",
       "    }\n",
       "</style>\n",
       "<table border=\"1\" class=\"dataframe\">\n",
       "  <thead>\n",
       "    <tr style=\"text-align: right;\">\n",
       "      <th></th>\n",
       "      <th>id</th>\n",
       "      <th>Movie_name</th>\n",
       "      <th>date</th>\n",
       "      <th>rating</th>\n",
       "      <th>tags</th>\n",
       "    </tr>\n",
       "  </thead>\n",
       "  <tbody>\n",
       "    <tr>\n",
       "      <th>0</th>\n",
       "      <td>1000001</td>\n",
       "      <td>Barbie</td>\n",
       "      <td>2023.0</td>\n",
       "      <td>3.86</td>\n",
       "      <td>margotrobbie ryangosling americaferrera gretag...</td>\n",
       "    </tr>\n",
       "    <tr>\n",
       "      <th>1</th>\n",
       "      <td>1000002</td>\n",
       "      <td>Parasite</td>\n",
       "      <td>2019.0</td>\n",
       "      <td>4.56</td>\n",
       "      <td>songkang-ho leesun-kyun choyeo-jeong bongjoon-...</td>\n",
       "    </tr>\n",
       "  </tbody>\n",
       "</table>\n",
       "</div>"
      ],
      "text/plain": [
       "        id Movie_name    date  rating  \\\n",
       "0  1000001     Barbie  2023.0    3.86   \n",
       "1  1000002   Parasite  2019.0    4.56   \n",
       "\n",
       "                                                tags  \n",
       "0  margotrobbie ryangosling americaferrera gretag...  \n",
       "1  songkang-ho leesun-kyun choyeo-jeong bongjoon-...  "
      ]
     },
     "execution_count": 65,
     "metadata": {},
     "output_type": "execute_result"
    }
   ],
   "source": [
    "new_df.head(2)"
   ]
  },
  {
   "cell_type": "code",
   "execution_count": 66,
   "id": "e38a6668-e01a-4135-be8c-48d7f0128141",
   "metadata": {},
   "outputs": [],
   "source": [
    "import nltk\n",
    "from nltk.stem.porter import PorterStemmer\n",
    "ps=PorterStemmer()"
   ]
  },
  {
   "cell_type": "code",
   "execution_count": 67,
   "id": "e734e539-48df-4ad8-bf5b-8916c54b7b9a",
   "metadata": {},
   "outputs": [],
   "source": [
    "def stem(text):\n",
    "    y=[]\n",
    "    for i in text.split():\n",
    "        y.append(ps.stem(i))\n",
    "    return \" \".join(y)"
   ]
  },
  {
   "cell_type": "code",
   "execution_count": 68,
   "id": "900ad7b8-1337-49f0-b2cb-edc5b3910ba8",
   "metadata": {},
   "outputs": [
    {
     "name": "stderr",
     "output_type": "stream",
     "text": [
      "C:\\Users\\Asus\\AppData\\Local\\Temp\\ipykernel_24096\\3514595201.py:1: SettingWithCopyWarning: \n",
      "A value is trying to be set on a copy of a slice from a DataFrame.\n",
      "Try using .loc[row_indexer,col_indexer] = value instead\n",
      "\n",
      "See the caveats in the documentation: https://pandas.pydata.org/pandas-docs/stable/user_guide/indexing.html#returning-a-view-versus-a-copy\n",
      "  new_df['tags']=new_df['tags'].apply(stem)\n"
     ]
    }
   ],
   "source": [
    "new_df['tags']=new_df['tags'].apply(stem)"
   ]
  },
  {
   "cell_type": "code",
   "execution_count": 69,
   "id": "7e3ff217-205a-4a89-a541-f94ad03a79c4",
   "metadata": {},
   "outputs": [
    {
     "data": {
      "text/html": [
       "<div>\n",
       "<style scoped>\n",
       "    .dataframe tbody tr th:only-of-type {\n",
       "        vertical-align: middle;\n",
       "    }\n",
       "\n",
       "    .dataframe tbody tr th {\n",
       "        vertical-align: top;\n",
       "    }\n",
       "\n",
       "    .dataframe thead th {\n",
       "        text-align: right;\n",
       "    }\n",
       "</style>\n",
       "<table border=\"1\" class=\"dataframe\">\n",
       "  <thead>\n",
       "    <tr style=\"text-align: right;\">\n",
       "      <th></th>\n",
       "      <th>id</th>\n",
       "      <th>Movie_name</th>\n",
       "      <th>date</th>\n",
       "      <th>rating</th>\n",
       "      <th>tags</th>\n",
       "    </tr>\n",
       "  </thead>\n",
       "  <tbody>\n",
       "    <tr>\n",
       "      <th>0</th>\n",
       "      <td>1000001</td>\n",
       "      <td>Barbie</td>\n",
       "      <td>2023.0</td>\n",
       "      <td>3.86</td>\n",
       "      <td>margotrobbi ryangosl americaferrera gretagerwi...</td>\n",
       "    </tr>\n",
       "    <tr>\n",
       "      <th>1</th>\n",
       "      <td>1000002</td>\n",
       "      <td>Parasite</td>\n",
       "      <td>2019.0</td>\n",
       "      <td>4.56</td>\n",
       "      <td>songkang-ho leesun-kyun choyeo-jeong bongjoon-...</td>\n",
       "    </tr>\n",
       "  </tbody>\n",
       "</table>\n",
       "</div>"
      ],
      "text/plain": [
       "        id Movie_name    date  rating  \\\n",
       "0  1000001     Barbie  2023.0    3.86   \n",
       "1  1000002   Parasite  2019.0    4.56   \n",
       "\n",
       "                                                tags  \n",
       "0  margotrobbi ryangosl americaferrera gretagerwi...  \n",
       "1  songkang-ho leesun-kyun choyeo-jeong bongjoon-...  "
      ]
     },
     "execution_count": 69,
     "metadata": {},
     "output_type": "execute_result"
    }
   ],
   "source": [
    "new_df.head(2)"
   ]
  },
  {
   "cell_type": "code",
   "execution_count": 70,
   "id": "4b2e9732-7bf0-471e-abdc-a797b83f3c56",
   "metadata": {},
   "outputs": [],
   "source": [
    "poster=pd.read_csv(\"posters.csv\")"
   ]
  },
  {
   "cell_type": "code",
   "execution_count": 71,
   "id": "b1d622e7-0244-491e-a3aa-a35f07fd8f8b",
   "metadata": {},
   "outputs": [
    {
     "data": {
      "text/plain": [
       "id           0\n",
       "link    180712\n",
       "dtype: int64"
      ]
     },
     "execution_count": 71,
     "metadata": {},
     "output_type": "execute_result"
    }
   ],
   "source": [
    "poster.isnull().sum()"
   ]
  },
  {
   "cell_type": "code",
   "execution_count": 72,
   "id": "b8453bdd-1972-48ab-84ad-11cf2a776e7d",
   "metadata": {},
   "outputs": [
    {
     "data": {
      "text/html": [
       "<div>\n",
       "<style scoped>\n",
       "    .dataframe tbody tr th:only-of-type {\n",
       "        vertical-align: middle;\n",
       "    }\n",
       "\n",
       "    .dataframe tbody tr th {\n",
       "        vertical-align: top;\n",
       "    }\n",
       "\n",
       "    .dataframe thead th {\n",
       "        text-align: right;\n",
       "    }\n",
       "</style>\n",
       "<table border=\"1\" class=\"dataframe\">\n",
       "  <thead>\n",
       "    <tr style=\"text-align: right;\">\n",
       "      <th></th>\n",
       "      <th>id</th>\n",
       "      <th>Movie_name</th>\n",
       "      <th>date</th>\n",
       "      <th>rating</th>\n",
       "      <th>tags</th>\n",
       "      <th>link</th>\n",
       "    </tr>\n",
       "  </thead>\n",
       "  <tbody>\n",
       "    <tr>\n",
       "      <th>0</th>\n",
       "      <td>1000001</td>\n",
       "      <td>Barbie</td>\n",
       "      <td>2023.0</td>\n",
       "      <td>3.86</td>\n",
       "      <td>margotrobbi ryangosl americaferrera gretagerwi...</td>\n",
       "      <td>https://a.ltrbxd.com/resized/film-poster/2/7/7...</td>\n",
       "    </tr>\n",
       "    <tr>\n",
       "      <th>1</th>\n",
       "      <td>1000002</td>\n",
       "      <td>Parasite</td>\n",
       "      <td>2019.0</td>\n",
       "      <td>4.56</td>\n",
       "      <td>songkang-ho leesun-kyun choyeo-jeong bongjoon-...</td>\n",
       "      <td>https://a.ltrbxd.com/resized/film-poster/4/2/6...</td>\n",
       "    </tr>\n",
       "  </tbody>\n",
       "</table>\n",
       "</div>"
      ],
      "text/plain": [
       "        id Movie_name    date  rating  \\\n",
       "0  1000001     Barbie  2023.0    3.86   \n",
       "1  1000002   Parasite  2019.0    4.56   \n",
       "\n",
       "                                                tags  \\\n",
       "0  margotrobbi ryangosl americaferrera gretagerwi...   \n",
       "1  songkang-ho leesun-kyun choyeo-jeong bongjoon-...   \n",
       "\n",
       "                                                link  \n",
       "0  https://a.ltrbxd.com/resized/film-poster/2/7/7...  \n",
       "1  https://a.ltrbxd.com/resized/film-poster/4/2/6...  "
      ]
     },
     "execution_count": 72,
     "metadata": {},
     "output_type": "execute_result"
    }
   ],
   "source": [
    "new_df=new_df.merge(poster,on='id')\n",
    "new_df.head(2)"
   ]
  },
  {
   "cell_type": "code",
   "execution_count": 73,
   "id": "e973a840-7d48-4c8e-b8ec-cdd3cf538c2a",
   "metadata": {},
   "outputs": [
    {
     "data": {
      "text/html": [
       "<div>\n",
       "<style scoped>\n",
       "    .dataframe tbody tr th:only-of-type {\n",
       "        vertical-align: middle;\n",
       "    }\n",
       "\n",
       "    .dataframe tbody tr th {\n",
       "        vertical-align: top;\n",
       "    }\n",
       "\n",
       "    .dataframe thead th {\n",
       "        text-align: right;\n",
       "    }\n",
       "</style>\n",
       "<table border=\"1\" class=\"dataframe\">\n",
       "  <thead>\n",
       "    <tr style=\"text-align: right;\">\n",
       "      <th></th>\n",
       "      <th>id</th>\n",
       "      <th>title</th>\n",
       "      <th>date</th>\n",
       "      <th>rating</th>\n",
       "      <th>tags</th>\n",
       "      <th>posters</th>\n",
       "    </tr>\n",
       "  </thead>\n",
       "  <tbody>\n",
       "    <tr>\n",
       "      <th>0</th>\n",
       "      <td>1000001</td>\n",
       "      <td>Barbie</td>\n",
       "      <td>2023.0</td>\n",
       "      <td>3.86</td>\n",
       "      <td>margotrobbi ryangosl americaferrera gretagerwi...</td>\n",
       "      <td>https://a.ltrbxd.com/resized/film-poster/2/7/7...</td>\n",
       "    </tr>\n",
       "    <tr>\n",
       "      <th>1</th>\n",
       "      <td>1000002</td>\n",
       "      <td>Parasite</td>\n",
       "      <td>2019.0</td>\n",
       "      <td>4.56</td>\n",
       "      <td>songkang-ho leesun-kyun choyeo-jeong bongjoon-...</td>\n",
       "      <td>https://a.ltrbxd.com/resized/film-poster/4/2/6...</td>\n",
       "    </tr>\n",
       "    <tr>\n",
       "      <th>2</th>\n",
       "      <td>1000003</td>\n",
       "      <td>Everything Everywhere All at Once</td>\n",
       "      <td>2022.0</td>\n",
       "      <td>4.30</td>\n",
       "      <td>michelleyeoh kehuyquan stephaniehsu danielsche...</td>\n",
       "      <td>https://a.ltrbxd.com/resized/film-poster/4/7/4...</td>\n",
       "    </tr>\n",
       "    <tr>\n",
       "      <th>3</th>\n",
       "      <td>1000004</td>\n",
       "      <td>Fight Club</td>\n",
       "      <td>1999.0</td>\n",
       "      <td>4.27</td>\n",
       "      <td>edwardnorton bradpitt helenabonhamcart davidfi...</td>\n",
       "      <td>https://a.ltrbxd.com/resized/film-poster/5/1/5...</td>\n",
       "    </tr>\n",
       "    <tr>\n",
       "      <th>4</th>\n",
       "      <td>1000005</td>\n",
       "      <td>La La Land</td>\n",
       "      <td>2016.0</td>\n",
       "      <td>4.09</td>\n",
       "      <td>ryangosl emmaston johnlegend damienchazel jord...</td>\n",
       "      <td>https://a.ltrbxd.com/resized/film-poster/2/4/0...</td>\n",
       "    </tr>\n",
       "  </tbody>\n",
       "</table>\n",
       "</div>"
      ],
      "text/plain": [
       "        id                              title    date  rating  \\\n",
       "0  1000001                             Barbie  2023.0    3.86   \n",
       "1  1000002                           Parasite  2019.0    4.56   \n",
       "2  1000003  Everything Everywhere All at Once  2022.0    4.30   \n",
       "3  1000004                         Fight Club  1999.0    4.27   \n",
       "4  1000005                         La La Land  2016.0    4.09   \n",
       "\n",
       "                                                tags  \\\n",
       "0  margotrobbi ryangosl americaferrera gretagerwi...   \n",
       "1  songkang-ho leesun-kyun choyeo-jeong bongjoon-...   \n",
       "2  michelleyeoh kehuyquan stephaniehsu danielsche...   \n",
       "3  edwardnorton bradpitt helenabonhamcart davidfi...   \n",
       "4  ryangosl emmaston johnlegend damienchazel jord...   \n",
       "\n",
       "                                             posters  \n",
       "0  https://a.ltrbxd.com/resized/film-poster/2/7/7...  \n",
       "1  https://a.ltrbxd.com/resized/film-poster/4/2/6...  \n",
       "2  https://a.ltrbxd.com/resized/film-poster/4/7/4...  \n",
       "3  https://a.ltrbxd.com/resized/film-poster/5/1/5...  \n",
       "4  https://a.ltrbxd.com/resized/film-poster/2/4/0...  "
      ]
     },
     "execution_count": 73,
     "metadata": {},
     "output_type": "execute_result"
    }
   ],
   "source": [
    "new_df.rename(columns={'link':'posters','Movie_name':'title'},inplace=True)\n",
    "new_df.head()"
   ]
  },
  {
   "cell_type": "code",
   "execution_count": 74,
   "id": "dca2f4d7-4632-4183-9f3a-24fd68884cfd",
   "metadata": {},
   "outputs": [],
   "source": [
    "from sklearn.feature_extraction.text import CountVectorizer\n",
    "cv=CountVectorizer(max_features=5000,stop_words='english')\n"
   ]
  },
  {
   "cell_type": "code",
   "execution_count": 75,
   "id": "0739153e-baac-4ced-b9e3-26839c46ac25",
   "metadata": {},
   "outputs": [],
   "source": [
    "vectors=cv.fit_transform(new_df['tags']).toarray()"
   ]
  },
  {
   "cell_type": "code",
   "execution_count": 76,
   "id": "2430db4c-1610-4071-b388-2ff378745bb4",
   "metadata": {},
   "outputs": [
    {
     "data": {
      "text/plain": [
       "array([0, 0, 0, ..., 0, 0, 0])"
      ]
     },
     "execution_count": 76,
     "metadata": {},
     "output_type": "execute_result"
    }
   ],
   "source": [
    "vectors[0]"
   ]
  },
  {
   "cell_type": "code",
   "execution_count": 77,
   "id": "ce8bc1b5-ac2b-4186-9e89-928bd36ac9ac",
   "metadata": {},
   "outputs": [],
   "source": [
    "from sklearn.metrics.pairwise import cosine_similarity"
   ]
  },
  {
   "cell_type": "code",
   "execution_count": 78,
   "id": "910d84c2-4c14-4680-bab1-f81f32734ab4",
   "metadata": {},
   "outputs": [],
   "source": [
    "similarity=cosine_similarity(vectors)"
   ]
  },
  {
   "cell_type": "code",
   "execution_count": 79,
   "id": "ef5c9a44-66d8-4948-b50b-4f31c5932bf3",
   "metadata": {},
   "outputs": [
    {
     "data": {
      "text/plain": [
       "array([0.06917145, 1.        , 0.09090909, ..., 0.03959038, 0.06741999,\n",
       "       0.05504819])"
      ]
     },
     "execution_count": 79,
     "metadata": {},
     "output_type": "execute_result"
    }
   ],
   "source": [
    "similarity[1]"
   ]
  },
  {
   "cell_type": "code",
   "execution_count": 80,
   "id": "10ff6080-55c0-49a5-a94e-86d90b4c6a2a",
   "metadata": {},
   "outputs": [],
   "source": [
    "new_df['title']=new_df['title'].apply(lambda x:x.lower())"
   ]
  },
  {
   "cell_type": "code",
   "execution_count": 81,
   "id": "ce4d0bde-2222-4909-b5ea-dd5b0f120eda",
   "metadata": {},
   "outputs": [],
   "source": [
    "def rec(movie):\n",
    "    movie=(lambda x:x.lower())(movie)\n",
    "    movies_idx= new_df[new_df['title']==movie].index[0]\n",
    "    distances=similarity[movies_idx]\n",
    "    mov_list=sorted(list(enumerate(distances)),reverse=True,key=lambda x:x[1])[1:6]\n",
    "    for i in mov_list:\n",
    "        print(new_df.iloc[i[0]].title)\n"
   ]
  },
  {
   "cell_type": "code",
   "execution_count": 82,
   "id": "5511ba71-4c79-4b13-8219-a71b9581371a",
   "metadata": {},
   "outputs": [
    {
     "name": "stdout",
     "output_type": "stream",
     "text": [
      "independents' day\n",
      "invasion\n",
      "future war\n",
      "the blackout\n",
      "battle for terra\n"
     ]
    }
   ],
   "source": [
    "rec('edge of tomorrow')"
   ]
  },
  {
   "cell_type": "code",
   "execution_count": 83,
   "id": "561f0192-fb72-4f7f-89e7-fa162ea0f2b0",
   "metadata": {},
   "outputs": [],
   "source": [
    "import pickle"
   ]
  },
  {
   "cell_type": "code",
   "execution_count": 84,
   "id": "a7c5ba0b-671f-4798-b958-3a0e705dad05",
   "metadata": {},
   "outputs": [],
   "source": [
    "pickle.dump(new_df,open('movies.pkl','wb'))"
   ]
  },
  {
   "cell_type": "code",
   "execution_count": 85,
   "id": "f89a13d6-5c1d-42d4-8b85-6d55a00e215e",
   "metadata": {},
   "outputs": [],
   "source": [
    "pickle.dump(similarity,open('simil.pkl','wb'))"
   ]
  },
  {
   "cell_type": "code",
   "execution_count": null,
   "id": "eae7ad07-4c34-4d10-b1ee-716358baa67c",
   "metadata": {},
   "outputs": [],
   "source": []
  }
 ],
 "metadata": {
  "kernelspec": {
   "display_name": "Python 3 (ipykernel)",
   "language": "python",
   "name": "python3"
  },
  "language_info": {
   "codemirror_mode": {
    "name": "ipython",
    "version": 3
   },
   "file_extension": ".py",
   "mimetype": "text/x-python",
   "name": "python",
   "nbconvert_exporter": "python",
   "pygments_lexer": "ipython3",
   "version": "3.12.0"
  }
 },
 "nbformat": 4,
 "nbformat_minor": 5
}
